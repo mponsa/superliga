{
 "cells": [
  {
   "cell_type": "code",
   "execution_count": 3,
   "metadata": {
    "collapsed": false
   },
   "outputs": [],
   "source": [
    "#data preprocessing\n",
    "import pandas as pd\n",
    "#produces a prediction model in the form of an ensemble of weak prediction models, typically decision tree\n",
    "#import xgboost as xgb\n",
    "#the outcome (dependent variable) has only a limited number of possible values. \n",
    "#Logistic Regression is used when response variable is categorical in nature.\n",
    "from sklearn.linear_model import LogisticRegression\n",
    "#A random forest is a meta estimator that fits a number of decision tree classifiers \n",
    "#on various sub-samples of the dataset and use averaging to improve the predictive \n",
    "#accuracy and control over-fitting.\n",
    "from sklearn.ensemble import RandomForestClassifier\n",
    "#a discriminative classifier formally defined by a separating hyperplane.\n",
    "from sklearn.svm import SVC\n",
    "#displayd data\n",
    "from IPython.display import display\n",
    "%matplotlib inline"
   ]
  },
  {
   "cell_type": "code",
   "execution_count": 4,
   "metadata": {
    "collapsed": true
   },
   "outputs": [],
   "source": [
    "data = pd.read_csv('ARG.csv')"
   ]
  },
  {
   "cell_type": "code",
   "execution_count": 5,
   "metadata": {
    "collapsed": false
   },
   "outputs": [
    {
     "data": {
      "text/html": [
       "<div>\n",
       "<style>\n",
       "    .dataframe thead tr:only-child th {\n",
       "        text-align: right;\n",
       "    }\n",
       "\n",
       "    .dataframe thead th {\n",
       "        text-align: left;\n",
       "    }\n",
       "\n",
       "    .dataframe tbody tr th {\n",
       "        vertical-align: top;\n",
       "    }\n",
       "</style>\n",
       "<table border=\"1\" class=\"dataframe\">\n",
       "  <thead>\n",
       "    <tr style=\"text-align: right;\">\n",
       "      <th></th>\n",
       "      <th></th>\n",
       "      <th></th>\n",
       "      <th></th>\n",
       "      <th></th>\n",
       "      <th></th>\n",
       "      <th></th>\n",
       "      <th></th>\n",
       "      <th></th>\n",
       "      <th>Country;League;Season;Date;Time;Home;Away;HG;AG;Res;PH;PD;PA;MaxH;MaxD;MaxA;AvgH;AvgD;AvgA</th>\n",
       "    </tr>\n",
       "  </thead>\n",
       "  <tbody>\n",
       "    <tr>\n",
       "      <th>Argentina;Primera Division ;2012/2013;03-08-12;23:00;Arsenal Sarandi;Union de Santa Fe;1;0;H;1</th>\n",
       "      <th>9;3</th>\n",
       "      <th>39;5</th>\n",
       "      <th>03;1</th>\n",
       "      <th>9;3</th>\n",
       "      <th>5;5</th>\n",
       "      <th>68;1</th>\n",
       "      <th>76;3</th>\n",
       "      <th>3;4</th>\n",
       "      <td>74.0</td>\n",
       "    </tr>\n",
       "    <tr>\n",
       "      <th>Argentina;Primera Division ;2012/2013;04-08-12;1:10;Velez Sarsfield;Argentinos Jrs;3;0;H;2;3</th>\n",
       "      <th>24;4</th>\n",
       "      <th>55;2</th>\n",
       "      <th>18;3</th>\n",
       "      <th>3;4</th>\n",
       "      <th>62;1</th>\n",
       "      <th>97;3</th>\n",
       "      <th>12;3</th>\n",
       "      <th>96</th>\n",
       "      <td>NaN</td>\n",
       "    </tr>\n",
       "    <tr>\n",
       "      <th>Argentina;Primera Division ;2012/2013;04-08-12;18:10;Racing Club;Atl. Rafaela;1;1;D;1</th>\n",
       "      <th>91;3</th>\n",
       "      <th>34;5</th>\n",
       "      <th>09;2;3</th>\n",
       "      <th>4;5</th>\n",
       "      <th>09;1</th>\n",
       "      <th>91;3</th>\n",
       "      <th>22;4</th>\n",
       "      <th>05</th>\n",
       "      <td>NaN</td>\n",
       "    </tr>\n",
       "    <tr>\n",
       "      <th>Argentina;Primera Division ;2012/2013;04-08-12;20:10;Colon Santa FE;Lanus;1;0;H;2</th>\n",
       "      <th>5;3</th>\n",
       "      <th>16;3</th>\n",
       "      <th>27;2</th>\n",
       "      <th>54;3</th>\n",
       "      <th>16;3</th>\n",
       "      <th>36;2</th>\n",
       "      <th>39;2</th>\n",
       "      <th>99;3</th>\n",
       "      <td>4.0</td>\n",
       "    </tr>\n",
       "    <tr>\n",
       "      <th>Argentina;Primera Division ;2012/2013;04-08-12;22:15;Quilmes;Boca Juniors;3;0;H;3</th>\n",
       "      <th>18;3</th>\n",
       "      <th>13;2</th>\n",
       "      <th>58;3</th>\n",
       "      <th>37;3</th>\n",
       "      <th>13;2</th>\n",
       "      <th>58;3</th>\n",
       "      <th>07;2</th>\n",
       "      <th>99;2</th>\n",
       "      <td>38.0</td>\n",
       "    </tr>\n",
       "  </tbody>\n",
       "</table>\n",
       "</div>"
      ],
      "text/plain": [
       "                                                                                              Country;League;Season;Date;Time;Home;Away;HG;AG;Res;PH;PD;PA;MaxH;MaxD;MaxA;AvgH;AvgD;AvgA\n",
       "Argentina;Primera Division ;2012/2013;03-08-12;... 9;3  39;5 03;1   9;3  5;5  68;1 76;3 3;4                                                74.0                                         \n",
       "Argentina;Primera Division ;2012/2013;04-08-12;... 24;4 55;2 18;3   3;4  62;1 97;3 12;3 96                                                  NaN                                         \n",
       "Argentina;Primera Division ;2012/2013;04-08-12;... 91;3 34;5 09;2;3 4;5  09;1 91;3 22;4 05                                                  NaN                                         \n",
       "Argentina;Primera Division ;2012/2013;04-08-12;... 5;3  16;3 27;2   54;3 16;3 36;2 39;2 99;3                                                4.0                                         \n",
       "Argentina;Primera Division ;2012/2013;04-08-12;... 18;3 13;2 58;3   37;3 13;2 58;3 07;2 99;2                                               38.0                                         "
      ]
     },
     "execution_count": 5,
     "metadata": {},
     "output_type": "execute_result"
    }
   ],
   "source": [
    "data.head()"
   ]
  },
  {
   "cell_type": "code",
   "execution_count": null,
   "metadata": {
    "collapsed": true
   },
   "outputs": [],
   "source": []
  }
 ],
 "metadata": {
  "kernelspec": {
   "display_name": "Python 3",
   "language": "python",
   "name": "python3"
  },
  "language_info": {
   "codemirror_mode": {
    "name": "ipython",
    "version": 3
   },
   "file_extension": ".py",
   "mimetype": "text/x-python",
   "name": "python",
   "nbconvert_exporter": "python",
   "pygments_lexer": "ipython3",
   "version": "3.6.0"
  }
 },
 "nbformat": 4,
 "nbformat_minor": 2
}
